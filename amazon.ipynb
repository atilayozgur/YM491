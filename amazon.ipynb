{
 "cells": [
  {
   "cell_type": "code",
   "execution_count": 1,
   "metadata": {},
   "outputs": [],
   "source": [
    "import numpy as np \n",
    "import pandas as pd \n",
    "import re\n",
    "import nltk \n",
    "import matplotlib.pyplot as plt\n",
    "%matplotlib inline\n",
    "\n",
    "import warnings\n",
    "warnings.filterwarnings('ignore')"
   ]
  },
  {
   "cell_type": "code",
   "execution_count": 2,
   "metadata": {},
   "outputs": [],
   "source": [
    "data = pd.read_csv(\"amazon.txt\",delimiter=\"\\t\",header=None,names=[\"sentence\",\"label\"])\n",
    "data.head()\n",
    "\n",
    "#Confusion Matris çizimi için \n",
    "import itertools\n",
    "classes  = data['label'].unique()\n",
    "def plot_confusion_matrix(cm, classes,\n",
    "                          normalize=False,\n",
    "                          title='Confusion matrix',\n",
    "                          cmap=plt.cm.Blues):\n",
    "    if normalize:\n",
    "        cm = cm.astype('float') / cm.sum(axis=1)[:, np.newaxis]        \n",
    "    else:\n",
    "        print()\n",
    "\n",
    "    plt.imshow(cm, interpolation='nearest', cmap=cmap, aspect='auto')\n",
    "    plt.title(title)\n",
    "    plt.colorbar()\n",
    "    tick_marks = np.arange(len(classes))\n",
    "    plt.xticks(tick_marks, classes, rotation=45)\n",
    "    plt.yticks(tick_marks, classes)\n",
    "\n",
    "    fmt = '.2f' if normalize else 'd'\n",
    "    thresh = cm.max() / 2.\n",
    "    for i, j in itertools.product(range(cm.shape[0]), range(cm.shape[1])):\n",
    "        plt.text(j, i, format(cm[i, j], fmt),\n",
    "                 horizontalalignment=\"center\",\n",
    "                 color=\"white\" if cm[i, j] > thresh else \"black\")\n",
    "\n",
    "    plt.tight_layout()\n",
    "    plt.ylabel('Gerçek Etiket')\n",
    "    plt.xlabel('Tahmin Etiket')\n",
    "    plt.figure(figsize=(150,100))"
   ]
  },
  {
   "cell_type": "code",
   "execution_count": 3,
   "metadata": {},
   "outputs": [
    {
     "data": {
      "text/plain": [
       "<matplotlib.axes._subplots.AxesSubplot at 0x1eae8304a90>"
      ]
     },
     "execution_count": 3,
     "metadata": {},
     "output_type": "execute_result"
    },
    {
     "data": {
      "image/png": "[encoded data removed]",
      "text/plain": [
       "<Figure size 432x288 with 1 Axes>"
      ]
     },
     "metadata": {},
     "output_type": "display_data"
    }
   ],
   "source": [
    "#veri kümesindeki olumlu(yeşil)/olumsuz(kırmızı) yorum dağılımı \n",
    "data.label.value_counts().plot(kind='pie', autopct='%1.0f%%', colors=[\"red\", \"green\"])"
   ]
  },
  {
   "cell_type": "code",
   "execution_count": 4,
   "metadata": {},
   "outputs": [
    {
     "name": "stdout",
     "output_type": "stream",
     "text": [
      "so there is no way for me to plug it in here in the us unless go by converter \n"
     ]
    }
   ],
   "source": [
    "#Veri ön işleme\n",
    "sentences = data.iloc[:, 0].values\n",
    "labels = data.iloc[:, 1].values\n",
    "\n",
    "processed_sentences = []\n",
    "\n",
    "for item in range(0, len(sentences)):\n",
    "    # Özel karakterlerin(noktalama işareti vs) çıkartılması\n",
    "    processed_sentence = re.sub(r'\\W', ' ', str(sentences[item]))\n",
    "\n",
    "    # tek karakterlerin boşluk ile değiştirilmesi\n",
    "    processed_sentence= re.sub(r'\\s+[a-zA-Z]\\s+', ' ', processed_sentence)\n",
    "\n",
    "    # en baştan tek kalan karakterlerin çıkartılması\n",
    "    processed_sentence = re.sub(r'\\^[a-zA-Z]\\s+', ' ', processed_sentence) \n",
    "\n",
    "    # Birden fazla boşluğun tek boşlukla değiştirilmesi\n",
    "    processed_sentence = re.sub(r'\\s+', ' ', processed_sentence, flags=re.I)\n",
    "\n",
    "    # b öneklerinin silinmesi\n",
    "    processed_sentence = re.sub(r'^b\\s+', '', processed_sentence)\n",
    "\n",
    "    # küçük harfe çevirim\n",
    "    processed_sentence = processed_sentence.lower()\n",
    "\n",
    "    processed_sentences.append(processed_sentence)\n",
    "\n",
    "#Ön işleme sonrası örnek bir cümle\n",
    "print(processed_sentences[0])"
   ]
  },
  {
   "cell_type": "code",
   "execution_count": 5,
   "metadata": {
    "scrolled": true
   },
   "outputs": [
    {
     "name": "stdout",
     "output_type": "stream",
     "text": [
      "It is awesome.Great value good price\n",
      "[0.         0.         0.         0.         0.         0.\n",
      " 0.         0.         0.         0.         0.         0.\n",
      " 0.         0.         0.         0.         0.         0.\n",
      " 0.         0.         0.         0.         0.         0.\n",
      " 0.         0.         0.         0.         0.         0.\n",
      " 0.         0.         0.         0.         0.         0.\n",
      " 0.         0.         0.         0.         0.         0.\n",
      " 0.         0.         0.         0.         0.         0.\n",
      " 0.         0.53601251 0.         0.49609003 0.         0.\n",
      " 0.         0.         0.         0.         0.         0.\n",
      " 0.         0.         0.         0.         0.         0.\n",
      " 0.         0.         0.         0.         0.         0.\n",
      " 0.         0.         0.         0.         0.         0.\n",
      " 0.         0.         0.         0.         0.         0.\n",
      " 0.         0.         0.         0.         0.         0.\n",
      " 0.         0.         0.         0.         0.         0.68307047\n",
      " 0.         0.         0.         0.         0.         0.\n",
      " 0.         0.         0.         0.         0.         0.\n",
      " 0.         0.         0.         0.         0.         0.\n",
      " 0.         0.         0.         0.         0.         0.\n",
      " 0.         0.         0.         0.         0.         0.\n",
      " 0.         0.         0.         0.         0.         0.\n",
      " 0.         0.         0.         0.         0.         0.\n",
      " 0.         0.         0.         0.         0.         0.        ]\n"
     ]
    }
   ],
   "source": [
    "from nltk.corpus import stopwords\n",
    "from sklearn.feature_extraction.text import TfidfVectorizer\n",
    "\n",
    "#TFIdf yöntemi ile kelimelerin vektörlere dönüşümü. 10000 oluşturulacak vocabulary sınırı, max_df en fazla %80inde geçsin, \n",
    "# min_df en az 7 belgede geçsin, ingilizce stopwords çıkartılsın\n",
    "vectorizer = TfidfVectorizer (max_features=10000, min_df=7, max_df=0.8, stop_words=stopwords.words('english'))\n",
    "processed_sentences = vectorizer.fit_transform(processed_sentences).toarray()\n",
    "\n",
    "sentence=[\"It is awesome.Great value good price\",\"it was horrible. never shop again\"]\n",
    "transformed_sentence=vectorizer.transform(sentence).toarray()\n",
    "print(sentence[0])\n",
    "print(transformed_sentence[0])"
   ]
  },
  {
   "cell_type": "code",
   "execution_count": 6,
   "metadata": {},
   "outputs": [],
   "source": [
    "from sklearn.model_selection import train_test_split\n",
    "\n",
    "X_train, X_test, y_train, y_test = train_test_split(processed_sentences, labels, test_size=0.1, random_state=0)"
   ]
  },
  {
   "cell_type": "markdown",
   "metadata": {},
   "source": [
    "**RANDOM FOREST ALGORİTMASI**"
   ]
  },
  {
   "cell_type": "code",
   "execution_count": 7,
   "metadata": {},
   "outputs": [
    {
     "name": "stdout",
     "output_type": "stream",
     "text": [
      "It is awesome.Great value good price olumlu\n",
      "it was horrible. never shop again olumsuz\n",
      "\n",
      "Doğruluk Değeri= 0.77\n",
      "Çapraz Doğrulama Değerleri\n",
      "[0.71 0.81 0.73 0.72 0.73 0.73 0.8  0.72 0.72 0.76]\n",
      "Çapraz doğrulama değerleri ortalaması 0.7444444444444445\n"
     ]
    },
    {
     "data": {
      "image/png": "[encoded data removed]",
      "text/plain": [
       "<Figure size 432x288 with 2 Axes>"
      ]
     },
     "metadata": {
      "needs_background": "light"
     },
     "output_type": "display_data"
    },
    {
     "data": {
      "text/plain": [
       "<Figure size 10800x7200 with 0 Axes>"
      ]
     },
     "metadata": {},
     "output_type": "display_data"
    }
   ],
   "source": [
    "from sklearn.ensemble import RandomForestClassifier\n",
    "\n",
    "classifier = RandomForestClassifier(n_estimators=200, random_state=0)\n",
    "classifier.fit(X_train, y_train)\n",
    "\n",
    "predictions = classifier.predict(X_test)\n",
    "\n",
    "prediction=classifier.predict(transformed_sentence)\n",
    "\n",
    "print(sentence[0],\"olumlu\" if prediction[0]==1 else \"olumsuz\")\n",
    "print(sentence[1],\"olumlu\" if prediction[1]==1 else \"olumsuz\")\n",
    "\n",
    "from sklearn.metrics import confusion_matrix, accuracy_score\n",
    "\n",
    "#print(confusion_matrix(y_test,predictions))\n",
    "# confusion matris yazdırma\n",
    "cnf_matrix = confusion_matrix(y_test, predictions,classes)\n",
    "np.set_printoptions(precision=2)\n",
    "\n",
    "class_names = range(0,classes.size)\n",
    "\n",
    "# Plot non-normalized confusion matrix\n",
    "plt.figure()\n",
    "plot_confusion_matrix(cnf_matrix, classes=class_names,title='Karmaşıklık Matrisi')\n",
    "\n",
    "print(\"Doğruluk Değeri=\",accuracy_score(y_test, predictions))\n",
    "\n",
    "#k-fold cross validation\n",
    "from sklearn.model_selection import cross_val_score\n",
    "\n",
    "score=cross_val_score(classifier, X_train, y_train, cv=10)\n",
    "print(\"Çapraz Doğrulama Değerleri\")\n",
    "print(score)\n",
    "print(\"Çapraz doğrulama değerleri ortalaması\",score.mean())"
   ]
  },
  {
   "cell_type": "markdown",
   "metadata": {},
   "source": [
    "**SVM ALGORİTMASI**"
   ]
  },
  {
   "cell_type": "code",
   "execution_count": 8,
   "metadata": {},
   "outputs": [
    {
     "name": "stdout",
     "output_type": "stream",
     "text": [
      "It is awesome.Great value good price olumlu\n",
      "it was horrible. never shop again olumsuz\n",
      "\n",
      "Doğruluk Değeri= 0.81\n",
      "Çapraz Doğrulama Değerleri\n",
      "[0.68 0.76 0.78 0.7  0.73 0.74 0.83 0.73 0.73 0.74]\n",
      "Çapraz doğrulama değerleri ortalaması 0.7433333333333334\n",
      "\n",
      "It is awesome.Great value good price olumlu\n",
      "it was horrible. never shop again olumsuz\n",
      "\n",
      "Doğruluk Değeri= 0.8\n",
      "Çapraz Doğrulama Değerleri\n",
      "[0.67 0.76 0.73 0.71 0.72 0.74 0.81 0.77 0.74 0.76]\n",
      "Çapraz doğrulama değerleri ortalaması 0.7411111111111112\n"
     ]
    },
    {
     "data": {
      "image/png": "[encoded data removed]",
      "text/plain": [
       "<Figure size 432x288 with 2 Axes>"
      ]
     },
     "metadata": {
      "needs_background": "light"
     },
     "output_type": "display_data"
    },
    {
     "data": {
      "text/plain": [
       "<Figure size 10800x7200 with 0 Axes>"
      ]
     },
     "metadata": {},
     "output_type": "display_data"
    },
    {
     "data": {
      "image/png": "[encoded data removed]",
      "text/plain": [
       "<Figure size 432x288 with 2 Axes>"
      ]
     },
     "metadata": {
      "needs_background": "light"
     },
     "output_type": "display_data"
    },
    {
     "data": {
      "text/plain": [
       "<Figure size 10800x7200 with 0 Axes>"
      ]
     },
     "metadata": {},
     "output_type": "display_data"
    }
   ],
   "source": [
    "from sklearn.svm import SVC\n",
    "\n",
    "classifier = SVC(kernel='linear')\n",
    "classifier.fit(X_train, y_train)\n",
    "\n",
    "predictions = classifier.predict(X_test)\n",
    "\n",
    "prediction=classifier.predict(transformed_sentence)\n",
    "\n",
    "print(sentence[0],\"olumlu\" if prediction[0]==1 else \"olumsuz\")\n",
    "print(sentence[1],\"olumlu\" if prediction[1]==1 else \"olumsuz\")\n",
    "\n",
    "from sklearn.metrics import confusion_matrix, accuracy_score\n",
    "\n",
    "# confusion matris yazdırma\n",
    "cnf_matrix = confusion_matrix(y_test, predictions,classes)\n",
    "np.set_printoptions(precision=2)\n",
    "\n",
    "class_names = range(0,classes.size)\n",
    "\n",
    "# Plot non-normalized confusion matrix\n",
    "plt.figure()\n",
    "plot_confusion_matrix(cnf_matrix, classes=class_names,title='Karmaşıklık Matrisi')\n",
    "\n",
    "print(\"Doğruluk Değeri=\",accuracy_score(y_test, predictions))\n",
    "\n",
    "#k-fold cross validation\n",
    "from sklearn.model_selection import cross_val_score\n",
    "\n",
    "score=cross_val_score(classifier, X_train, y_train, cv=10)\n",
    "print(\"Çapraz Doğrulama Değerleri\")\n",
    "print(score)\n",
    "print(\"Çapraz doğrulama değerleri ortalaması\",score.mean())\n",
    "\n",
    "#Sigmoid Kernel tipi ile deneme\n",
    "classifier = SVC(kernel='sigmoid')\n",
    "classifier.fit(X_train, y_train)\n",
    "\n",
    "predictions = classifier.predict(X_test)\n",
    "prediction=classifier.predict(transformed_sentence)\n",
    "\n",
    "print()\n",
    "print(sentence[0],\"olumlu\" if prediction[0]==1 else \"olumsuz\")\n",
    "print(sentence[1],\"olumlu\" if prediction[1]==1 else \"olumsuz\")\n",
    "\n",
    "from sklearn.metrics import confusion_matrix, accuracy_score\n",
    "\n",
    "# confusion matris yazdırma\n",
    "cnf_matrix = confusion_matrix(y_test, predictions,classes)\n",
    "np.set_printoptions(precision=2)\n",
    "\n",
    "class_names = range(0,classes.size)\n",
    "\n",
    "# Plot non-normalized confusion matrix\n",
    "plt.figure()\n",
    "plot_confusion_matrix(cnf_matrix, classes=class_names,title='Karmaşıklık Matrisi')\n",
    "\n",
    "print(\"Doğruluk Değeri=\",accuracy_score(y_test, predictions))\n",
    "\n",
    "#k-fold cross validation\n",
    "from sklearn.model_selection import cross_val_score\n",
    "\n",
    "score=cross_val_score(classifier, X_train, y_train, cv=10)\n",
    "print(\"Çapraz Doğrulama Değerleri\")\n",
    "print(score)\n",
    "print(\"Çapraz doğrulama değerleri ortalaması\",score.mean())\n"
   ]
  },
  {
   "cell_type": "markdown",
   "metadata": {},
   "source": [
    "**KNN ALGORİTMASI** "
   ]
  },
  {
   "cell_type": "code",
   "execution_count": 9,
   "metadata": {},
   "outputs": [
    {
     "name": "stdout",
     "output_type": "stream",
     "text": [
      "It is awesome.Great value good price olumlu\n",
      "it was horrible. never shop again olumsuz\n",
      "\n",
      "k=5 için değerler\n",
      "Doğruluk Değeri= 0.77\n",
      "\n",
      "k=3 için değerler\n",
      "Doğruluk Değeri= 0.78\n",
      "Çapraz Doğrulama Değerleri\n",
      "[0.61 0.7  0.73 0.7  0.67 0.78 0.74 0.62 0.66 0.69]\n",
      "Çapraz doğrulama değerleri ortalaması 0.6900000000000001\n"
     ]
    },
    {
     "data": {
      "image/png": "[encoded data removed]",
      "text/plain": [
       "<Figure size 432x288 with 2 Axes>"
      ]
     },
     "metadata": {
      "needs_background": "light"
     },
     "output_type": "display_data"
    },
    {
     "data": {
      "text/plain": [
       "<Figure size 10800x7200 with 0 Axes>"
      ]
     },
     "metadata": {},
     "output_type": "display_data"
    },
    {
     "data": {
      "image/png": "[encoded data removed]",
      "text/plain": [
       "<Figure size 864x432 with 1 Axes>"
      ]
     },
     "metadata": {
      "needs_background": "light"
     },
     "output_type": "display_data"
    },
    {
     "data": {
      "image/png": "[encoded data removed]",
      "text/plain": [
       "<Figure size 432x288 with 2 Axes>"
      ]
     },
     "metadata": {
      "needs_background": "light"
     },
     "output_type": "display_data"
    },
    {
     "data": {
      "text/plain": [
       "<Figure size 10800x7200 with 0 Axes>"
      ]
     },
     "metadata": {},
     "output_type": "display_data"
    }
   ],
   "source": [
    "from sklearn.neighbors import KNeighborsClassifier\n",
    "classifier = KNeighborsClassifier(n_neighbors=5)\n",
    "classifier.fit(X_train, y_train)\n",
    "\n",
    "predictions = classifier.predict(X_test)\n",
    "prediction=classifier.predict(transformed_sentence)\n",
    "\n",
    "print(sentence[0],\"olumlu\" if prediction[0]==1 else \"olumsuz\")\n",
    "print(sentence[1],\"olumlu\" if prediction[1]==1 else \"olumsuz\")\n",
    "\n",
    "from sklearn.metrics import confusion_matrix, accuracy_score\n",
    "\n",
    "# confusion matris yazdırma\n",
    "cnf_matrix = confusion_matrix(y_test, predictions,classes)\n",
    "np.set_printoptions(precision=2)\n",
    "\n",
    "class_names = range(0,classes.size)\n",
    "\n",
    "# Plot non-normalized confusion matrix\n",
    "plt.figure()\n",
    "plot_confusion_matrix(cnf_matrix, classes=class_names,title='Karmaşıklık Matrisi')\n",
    "\n",
    "print(\"k=5 için değerler\")\n",
    "print(\"Doğruluk Değeri=\",accuracy_score(y_test, predictions))\n",
    "\n",
    "#k değerini rasgele atamak yerine 1-40 arasındaki k değerleri için hata hesaplaması yapıp grafiğe yansıtalım\n",
    "error = []\n",
    "for i in range(1, 40):\n",
    "    knn = KNeighborsClassifier(n_neighbors=i)\n",
    "    knn.fit(X_train, y_train)\n",
    "    pred_i = knn.predict(X_test)\n",
    "    error.append(np.mean(pred_i != y_test))\n",
    "\n",
    "plt.figure(figsize=(12, 6))\n",
    "plt.plot(range(1, 40), error, color='red', linestyle='dashed', marker='o',\n",
    "         markerfacecolor='blue', markersize=10)\n",
    "plt.title('Hata Oranı K Değeri')\n",
    "plt.xlabel('K Değeri')\n",
    "plt.ylabel('Ortalama Hata')    \n",
    "\n",
    "#k=3 değeri için hata oranı en küçük çıkmış.Algoritmayı k=3 tekrar çalıştıralım\n",
    "from sklearn.neighbors import KNeighborsClassifier\n",
    "classifier = KNeighborsClassifier(n_neighbors=3)\n",
    "classifier.fit(X_train, y_train)\n",
    "\n",
    "predictions = classifier.predict(X_test)\n",
    "\n",
    "from sklearn.metrics import confusion_matrix, accuracy_score\n",
    "\n",
    "# confusion matris yazdırma\n",
    "cnf_matrix = confusion_matrix(y_test, predictions,classes)\n",
    "np.set_printoptions(precision=2)\n",
    "\n",
    "class_names = range(0,classes.size)\n",
    "\n",
    "# Plot non-normalized confusion matrix\n",
    "plt.figure()\n",
    "plot_confusion_matrix(cnf_matrix, classes=class_names,title='Karmaşıklık Matrisi')\n",
    "\n",
    "print(\"k=3 için değerler\")\n",
    "print(\"Doğruluk Değeri=\",accuracy_score(y_test, predictions))\n",
    "\n",
    "#k-fold cross validation\n",
    "from sklearn.model_selection import cross_val_score\n",
    "\n",
    "score=cross_val_score(classifier, X_train, y_train, cv=10)\n",
    "print(\"Çapraz Doğrulama Değerleri\")\n",
    "print(score)\n",
    "print(\"Çapraz doğrulama değerleri ortalaması\",score.mean())"
   ]
  },
  {
   "cell_type": "markdown",
   "metadata": {},
   "source": [
    "**LOJİSTİK REGRESYON**"
   ]
  },
  {
   "cell_type": "code",
   "execution_count": 10,
   "metadata": {},
   "outputs": [
    {
     "name": "stdout",
     "output_type": "stream",
     "text": [
      "It is awesome.Great value good price olumlu\n",
      "it was horrible. never shop again olumsuz\n",
      "\n",
      "Doğruluk Değeri= 0.84\n",
      "Çapraz Doğrulama Değerleri\n",
      "[0.61 0.7  0.73 0.7  0.67 0.78 0.74 0.62 0.66 0.69]\n",
      "Çapraz doğrulama değerleri ortalaması 0.6900000000000001\n"
     ]
    },
    {
     "data": {
      "image/png": "[encoded data removed]",
      "text/plain": [
       "<Figure size 432x288 with 2 Axes>"
      ]
     },
     "metadata": {
      "needs_background": "light"
     },
     "output_type": "display_data"
    },
    {
     "data": {
      "text/plain": [
       "<Figure size 10800x7200 with 0 Axes>"
      ]
     },
     "metadata": {},
     "output_type": "display_data"
    }
   ],
   "source": [
    "from sklearn.linear_model import LogisticRegression\n",
    "\n",
    "lr = LogisticRegression(random_state=0, solver='lbfgs', multi_class='ovr').fit(X_train, y_train)\n",
    "predictions = lr.predict(X_test)\n",
    "prediction=classifier.predict(transformed_sentence)\n",
    "\n",
    "print(sentence[0],\"olumlu\" if prediction[0]==1 else \"olumsuz\")\n",
    "print(sentence[1],\"olumlu\" if prediction[1]==1 else \"olumsuz\")\n",
    "\n",
    "from sklearn.metrics import confusion_matrix, accuracy_score\n",
    "\n",
    "# confusion matris yazdırma\n",
    "cnf_matrix = confusion_matrix(y_test, predictions,classes)\n",
    "np.set_printoptions(precision=2)\n",
    "\n",
    "class_names = range(0,classes.size)\n",
    "\n",
    "# Plot non-normalized confusion matrix\n",
    "plt.figure()\n",
    "plot_confusion_matrix(cnf_matrix, classes=class_names,title='Karmaşıklık Matrisi')\n",
    "\n",
    "print(\"Doğruluk Değeri=\",accuracy_score(y_test, predictions))\n",
    "\n",
    "#k-fold cross validation\n",
    "from sklearn.model_selection import cross_val_score\n",
    "\n",
    "score=cross_val_score(classifier, X_train, y_train, cv=10)\n",
    "print(\"Çapraz Doğrulama Değerleri\")\n",
    "print(score)\n",
    "print(\"Çapraz doğrulama değerleri ortalaması\",score.mean())"
   ]
  },
  {
   "cell_type": "markdown",
   "metadata": {},
   "source": [
    "**NAIVEBAYES ALGORİTMASI**"
   ]
  },
  {
   "cell_type": "code",
   "execution_count": 11,
   "metadata": {},
   "outputs": [
    {
     "name": "stdout",
     "output_type": "stream",
     "text": [
      "It is awesome.Great value good price olumlu\n",
      "it was horrible. never shop again olumsuz\n",
      "\n",
      "Doğruluk Değeri= 0.71\n",
      "Çapraz Doğrulama Değerleri\n",
      "[0.64 0.6  0.66 0.69 0.64 0.69 0.74 0.62 0.64 0.62]\n",
      "Çapraz doğrulama değerleri ortalaması 0.6555555555555557\n",
      "\n",
      "It is awesome.Great value good price olumlu\n",
      "it was horrible. never shop again olumsuz\n",
      "\n",
      "Doğruluk Değeri= 0.84\n",
      "Çapraz Doğrulama Değerleri\n",
      "[0.67 0.72 0.77 0.76 0.7  0.76 0.81 0.81 0.72 0.74]\n",
      "Çapraz doğrulama değerleri ortalaması 0.7455555555555555\n",
      "\n",
      "It is awesome.Great value good price olumlu\n",
      "it was horrible. never shop again olumsuz\n",
      "\n",
      "Doğruluk Değeri= 0.83\n",
      "Çapraz Doğrulama Değerleri\n",
      "[0.66 0.71 0.71 0.73 0.72 0.76 0.86 0.79 0.73 0.77]\n",
      "Çapraz doğrulama değerleri ortalaması 0.7433333333333334\n"
     ]
    },
    {
     "data": {
      "image/png": "[encoded data removed]",
      "text/plain": [
       "<Figure size 432x288 with 2 Axes>"
      ]
     },
     "metadata": {
      "needs_background": "light"
     },
     "output_type": "display_data"
    },
    {
     "data": {
      "text/plain": [
       "<Figure size 10800x7200 with 0 Axes>"
      ]
     },
     "metadata": {},
     "output_type": "display_data"
    },
    {
     "data": {
      "image/png": "[encoded data removed]",
      "text/plain": [
       "<Figure size 432x288 with 2 Axes>"
      ]
     },
     "metadata": {
      "needs_background": "light"
     },
     "output_type": "display_data"
    },
    {
     "data": {
      "text/plain": [
       "<Figure size 10800x7200 with 0 Axes>"
      ]
     },
     "metadata": {},
     "output_type": "display_data"
    },
    {
     "data": {
      "image/png": "[encoded data removed]",
      "text/plain": [
       "<Figure size 432x288 with 2 Axes>"
      ]
     },
     "metadata": {
      "needs_background": "light"
     },
     "output_type": "display_data"
    },
    {
     "data": {
      "text/plain": [
       "<Figure size 10800x7200 with 0 Axes>"
      ]
     },
     "metadata": {},
     "output_type": "display_data"
    }
   ],
   "source": [
    "# 3 tane farklı Naive Bayes Sınıfı vardır.\n",
    "# GaussianNB : Tahmin edeceğiniz veri veya kolon sürekli (real,ondalıklı vs.) ise\n",
    "# BernoulliNB : Tahmin edeceğiniz veri veya kolon ikili ise ( Evet/Hayır , Sigara içiyor/ İçmiyor vs.)\n",
    "# MultinomialNB : Tahmin edeceğiniz veri veya kolon nominal ise ( Int sayılar )\n",
    "\n",
    "from sklearn.naive_bayes import GaussianNB\n",
    "\n",
    "classifier = GaussianNB()\n",
    "classifier.fit(X_train, y_train)\n",
    "\n",
    "predictions = classifier.predict(X_test)\n",
    "prediction=classifier.predict(transformed_sentence)\n",
    "\n",
    "print(sentence[0],\"olumlu\" if prediction[0]==1 else \"olumsuz\")\n",
    "print(sentence[1],\"olumlu\" if prediction[1]==1 else \"olumsuz\")\n",
    "\n",
    "from sklearn.metrics import confusion_matrix, accuracy_score\n",
    "\n",
    "# confusion matris yazdırma\n",
    "cnf_matrix = confusion_matrix(y_test, predictions,classes)\n",
    "np.set_printoptions(precision=2)\n",
    "\n",
    "class_names = range(0,classes.size)\n",
    "\n",
    "# Plot non-normalized confusion matrix\n",
    "plt.figure()\n",
    "plot_confusion_matrix(cnf_matrix, classes=class_names,title='Karmaşıklık Matrisi')\n",
    "\n",
    "print(\"Doğruluk Değeri=\",accuracy_score(y_test, predictions))\n",
    "\n",
    "#k-fold cross validation\n",
    "from sklearn.model_selection import cross_val_score\n",
    "\n",
    "score=cross_val_score(classifier, X_train, y_train, cv=10)\n",
    "print(\"Çapraz Doğrulama Değerleri\")\n",
    "print(score)\n",
    "print(\"Çapraz doğrulama değerleri ortalaması\",score.mean())\n",
    "\n",
    "#BernoulliNB\n",
    "from sklearn.naive_bayes import BernoulliNB\n",
    "\n",
    "classifier = BernoulliNB()\n",
    "classifier.fit(X_train, y_train)\n",
    "\n",
    "predictions = classifier.predict(X_test)\n",
    "prediction=classifier.predict(transformed_sentence)\n",
    "\n",
    "print()\n",
    "print(sentence[0],\"olumlu\" if prediction[0]==1 else \"olumsuz\")\n",
    "print(sentence[1],\"olumlu\" if prediction[1]==1 else \"olumsuz\")\n",
    "\n",
    "from sklearn.metrics import confusion_matrix, accuracy_score\n",
    "\n",
    "# confusion matris yazdırma\n",
    "cnf_matrix = confusion_matrix(y_test, predictions,classes)\n",
    "np.set_printoptions(precision=2)\n",
    "\n",
    "class_names = range(0,classes.size)\n",
    "\n",
    "# Plot non-normalized confusion matrix\n",
    "plt.figure()\n",
    "plot_confusion_matrix(cnf_matrix, classes=class_names,title='Karmaşıklık Matrisi')\n",
    "\n",
    "print(\"Doğruluk Değeri=\",accuracy_score(y_test, predictions))\n",
    "\n",
    "#k-fold cross validation\n",
    "from sklearn.model_selection import cross_val_score\n",
    "\n",
    "score=cross_val_score(classifier, X_train, y_train, cv=10)\n",
    "print(\"Çapraz Doğrulama Değerleri\")\n",
    "print(score)\n",
    "print(\"Çapraz doğrulama değerleri ortalaması\",score.mean())\n",
    "\n",
    "#MultinomialNB\n",
    "from sklearn.naive_bayes import MultinomialNB\n",
    "\n",
    "classifier = MultinomialNB()\n",
    "classifier.fit(X_train, y_train)\n",
    "\n",
    "predictions = classifier.predict(X_test)\n",
    "prediction=classifier.predict(transformed_sentence)\n",
    "\n",
    "print()\n",
    "print(sentence[0],\"olumlu\" if prediction[0]==1 else \"olumsuz\")\n",
    "print(sentence[1],\"olumlu\" if prediction[1]==1 else \"olumsuz\")\n",
    "\n",
    "from sklearn.metrics import confusion_matrix, accuracy_score\n",
    "\n",
    "# confusion matris yazdırma\n",
    "cnf_matrix = confusion_matrix(y_test, predictions,classes)\n",
    "np.set_printoptions(precision=2)\n",
    "\n",
    "class_names = range(0,classes.size)\n",
    "\n",
    "# Plot non-normalized confusion matrix\n",
    "plt.figure()\n",
    "plot_confusion_matrix(cnf_matrix, classes=class_names,title='Karmaşıklık Matrisi')\n",
    "\n",
    "print(\"Doğruluk Değeri=\",accuracy_score(y_test, predictions))\n",
    "\n",
    "#k-fold cross validation\n",
    "from sklearn.model_selection import cross_val_score\n",
    "\n",
    "score=cross_val_score(classifier, X_train, y_train, cv=10)\n",
    "print(\"Çapraz Doğrulama Değerleri\")\n",
    "print(score)\n",
    "print(\"Çapraz doğrulama değerleri ortalaması\",score.mean())\n",
    "\n",
    "#Sonuç olarak en iyi değeri önceden tahmin edildiği gibi BernoulliNB verdi."
   ]
  },
  {
   "cell_type": "code",
   "execution_count": null,
   "metadata": {},
   "outputs": [],
   "source": []
  }
 ],
 "metadata": {
  "kernelspec": {
   "display_name": "Python 3",
   "language": "python",
   "name": "python3"
  },
  "language_info": {
   "codemirror_mode": {
    "name": "ipython",
    "version": 3
   },
   "file_extension": ".py",
   "mimetype": "text/x-python",
   "name": "python",
   "nbconvert_exporter": "python",
   "pygments_lexer": "ipython3",
   "version": "3.8.3"
  }
 },
 "nbformat": 4,
 "nbformat_minor": 4
}
